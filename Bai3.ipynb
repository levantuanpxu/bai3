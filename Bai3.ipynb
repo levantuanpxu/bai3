{
  "nbformat": 4,
  "nbformat_minor": 0,
  "metadata": {
    "colab": {
      "name": "Bai3.ipynb",
      "provenance": [],
      "authorship_tag": "ABX9TyNPfKNhmzmxcUjELIh8ADg4",
      "include_colab_link": true
    },
    "kernelspec": {
      "name": "python3",
      "display_name": "Python 3"
    }
  },
  "cells": [
    {
      "cell_type": "markdown",
      "metadata": {
        "id": "view-in-github",
        "colab_type": "text"
      },
      "source": [
        "<a href=\"https://colab.research.google.com/github/levantuanpxu/bai3/blob/main/Bai3.ipynb\" target=\"_parent\"><img src=\"https://colab.research.google.com/assets/colab-badge.svg\" alt=\"Open In Colab\"/></a>"
      ]
    },
    {
      "cell_type": "markdown",
      "metadata": {
        "id": "cyl0XJMDYl_f"
      },
      "source": [
        "1) Tạo một biến x kiểu List rỗng"
      ]
    },
    {
      "cell_type": "code",
      "metadata": {
        "id": "1g8ndD92YhEf"
      },
      "source": [
        "x = []"
      ],
      "execution_count": 8,
      "outputs": []
    },
    {
      "cell_type": "markdown",
      "metadata": {
        "id": "hi6q6tCvYsA9"
      },
      "source": [
        "2) Thêm giá trị 18 vào x"
      ]
    },
    {
      "cell_type": "code",
      "metadata": {
        "id": "ZaSEl3s2YyAx"
      },
      "source": [
        "x.append(18)"
      ],
      "execution_count": 9,
      "outputs": []
    },
    {
      "cell_type": "markdown",
      "metadata": {
        "id": "tYuh8MiAZKfk"
      },
      "source": [
        "3) Thêm giá trị \"Huế\" vào x"
      ]
    },
    {
      "cell_type": "code",
      "metadata": {
        "id": "VABjlpbOZHFe"
      },
      "source": [
        "x.append(\"HUẾ\")"
      ],
      "execution_count": 10,
      "outputs": []
    },
    {
      "cell_type": "markdown",
      "metadata": {
        "id": "tzJZ69tofUbP"
      },
      "source": [
        "4) Tạo 1 List  y = [12, 45, -1, -0.56, \"abc\"]"
      ]
    },
    {
      "cell_type": "code",
      "metadata": {
        "id": "lyoZLUM-fWIR"
      },
      "source": [
        "y = [12, 45, -1, -0.56, \"abc\"]"
      ],
      "execution_count": 12,
      "outputs": []
    },
    {
      "cell_type": "markdown",
      "metadata": {
        "id": "2Cs5XhL4fpey"
      },
      "source": [
        "5) Thêm y vào x"
      ]
    },
    {
      "cell_type": "code",
      "metadata": {
        "id": "QolguTnlfotg"
      },
      "source": [
        "x.extend(y)"
      ],
      "execution_count": 15,
      "outputs": []
    },
    {
      "cell_type": "code",
      "metadata": {
        "id": "MvVD36csgwgJ"
      },
      "source": [
        ""
      ],
      "execution_count": null,
      "outputs": []
    },
    {
      "cell_type": "markdown",
      "metadata": {
        "id": "TnduTcrPgw9G"
      },
      "source": [
        "6) Xuất giá trị của x ra màn hình"
      ]
    },
    {
      "cell_type": "code",
      "metadata": {
        "colab": {
          "base_uri": "https://localhost:8080/"
        },
        "id": "8AuJPxNZgyJ1",
        "outputId": "ad06cb7a-6224-4ddb-c05b-0b16519a51fe"
      },
      "source": [
        "print(x)"
      ],
      "execution_count": 16,
      "outputs": [
        {
          "output_type": "stream",
          "text": [
            "[18, 'HUẾ', 12, 45, -1, -0.56, 'abc', 12, 45, -1, -0.56, 'abc', 12, 45, -1, -0.56, 'abc']\n"
          ],
          "name": "stdout"
        }
      ]
    },
    {
      "cell_type": "code",
      "metadata": {
        "id": "WJuGhTVVg8oF"
      },
      "source": [
        ""
      ],
      "execution_count": null,
      "outputs": []
    },
    {
      "cell_type": "markdown",
      "metadata": {
        "id": "YlL7rbzQg9h7"
      },
      "source": [
        "7) In ra màn hình giá trị của phần tử cuối cùng và phần tử đầu tiên của x"
      ]
    },
    {
      "cell_type": "code",
      "metadata": {
        "colab": {
          "base_uri": "https://localhost:8080/"
        },
        "id": "t7BOPnlcg-IQ",
        "outputId": "1493a2b5-2954-4b8e-e6c4-d271206a98e4"
      },
      "source": [
        "print(x[-1],\",\",x[0])"
      ],
      "execution_count": 21,
      "outputs": [
        {
          "output_type": "stream",
          "text": [
            "abc , 18\n"
          ],
          "name": "stdout"
        }
      ]
    },
    {
      "cell_type": "markdown",
      "metadata": {
        "id": "W9YRMhFdiQwF"
      },
      "source": [
        "8) In ra màn hình giá trị của phần tử đầu tiên đến phần tử thứ 5 của x"
      ]
    },
    {
      "cell_type": "code",
      "metadata": {
        "colab": {
          "base_uri": "https://localhost:8080/"
        },
        "id": "gdgRhQyBiKHM",
        "outputId": "2216b08f-ce2c-4d25-eced-c997eef2ed24"
      },
      "source": [
        "print(x[0:5])"
      ],
      "execution_count": 23,
      "outputs": [
        {
          "output_type": "stream",
          "text": [
            "[18, 'HUẾ', 12, 45, -1]\n"
          ],
          "name": "stdout"
        }
      ]
    },
    {
      "cell_type": "markdown",
      "metadata": {
        "id": "gA1u_0vqjAO7"
      },
      "source": [
        "9) In ra màn hình giá trị của phần từ thứ 3 đến cuối cùng của x"
      ]
    },
    {
      "cell_type": "code",
      "metadata": {
        "colab": {
          "base_uri": "https://localhost:8080/"
        },
        "id": "qmqnyn4Ei_aw",
        "outputId": "0f446608-61cd-4d02-8848-0d5cb224edab"
      },
      "source": [
        "print(x[2:])"
      ],
      "execution_count": 25,
      "outputs": [
        {
          "output_type": "stream",
          "text": [
            "[12, 45, -1, -0.56, 'abc', 12, 45, -1, -0.56, 'abc', 12, 45, -1, -0.56, 'abc']\n"
          ],
          "name": "stdout"
        }
      ]
    }
  ]
}